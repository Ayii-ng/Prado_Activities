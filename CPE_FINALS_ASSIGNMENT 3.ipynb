{
 "cells": [
  {
   "cell_type": "code",
   "execution_count": 19,
   "id": "75747d67-0373-4344-b73a-a255dddb8b06",
   "metadata": {
    "scrolled": true
   },
   "outputs": [
    {
     "data": {
      "text/plain": [
       "'Creating strings through a single quote'"
      ]
     },
     "execution_count": 19,
     "metadata": {},
     "output_type": "execute_result"
    }
   ],
   "source": [
    "# Creating strings - Single Quote\n",
    "'Creating strings through a single quote'"
   ]
  },
  {
   "cell_type": "code",
   "execution_count": 6,
   "id": "023e67f5-0727-4cf1-805e-33acf8231e88",
   "metadata": {},
   "outputs": [
    {
     "data": {
      "text/plain": [
       "'Creating strings through the double quote'"
      ]
     },
     "execution_count": 6,
     "metadata": {},
     "output_type": "execute_result"
    }
   ],
   "source": [
    "# Creating strings - Double Quote\n",
    "\"Creating strings through the double quote\""
   ]
  },
  {
   "cell_type": "code",
   "execution_count": 8,
   "id": "af9e2976-7bed-40d2-b062-a9ad4bb6228c",
   "metadata": {},
   "outputs": [
    {
     "ename": "SyntaxError",
     "evalue": "unterminated string literal (detected at line 2) (331575280.py, line 2)",
     "output_type": "error",
     "traceback": [
      "\u001b[1;36m  Cell \u001b[1;32mIn[8], line 2\u001b[1;36m\u001b[0m\n\u001b[1;33m    'I'm using a single quote for this'\u001b[0m\n\u001b[1;37m                                      ^\u001b[0m\n\u001b[1;31mSyntaxError\u001b[0m\u001b[1;31m:\u001b[0m unterminated string literal (detected at line 2)\n"
     ]
    }
   ],
   "source": [
    "# Be careful by using quotes\n",
    "'I'm using a single quote for this'"
   ]
  },
  {
   "cell_type": "code",
   "execution_count": 25,
   "id": "a866f99c-f9e0-4ad3-8a6c-a84ae5f78927",
   "metadata": {},
   "outputs": [
    {
     "data": {
      "text/plain": [
       "\"I'm using a combination of double and single quotes\""
      ]
     },
     "execution_count": 25,
     "metadata": {},
     "output_type": "execute_result"
    }
   ],
   "source": [
    "\"I'm using a combination of double and single quotes\""
   ]
  },
  {
   "cell_type": "code",
   "execution_count": 26,
   "id": "b0d66891-6c55-4c78-9a0f-5ff4cd831376",
   "metadata": {},
   "outputs": [
    {
     "name": "stdout",
     "output_type": "stream",
     "text": [
      "Seventeen\n"
     ]
    }
   ],
   "source": [
    "# Printing Strings - Using Jupyter notebook with just a string in a cell will automatically output strings, \n",
    "# but the correct way to display strings in your output is by using a print function.\n",
    "\n",
    "print(\"Seventeen\")"
   ]
  },
  {
   "cell_type": "code",
   "execution_count": 13,
   "id": "0bc3fd98-3ad1-4aaa-ab14-6ab5f99d658e",
   "metadata": {},
   "outputs": [
    {
     "name": "stdout",
     "output_type": "stream",
     "text": [
      "SVT\n"
     ]
    }
   ],
   "source": [
    "# Removing Space from a String - Using replace()\n",
    "def remove(string):\n",
    "    return string.replace(\" \", \"\")\n",
    "\n",
    "string = ' S V T '\n",
    "print(remove(string))"
   ]
  },
  {
   "cell_type": "code",
   "execution_count": 27,
   "id": "c18b06ff-e78a-471f-b6b0-c71ceb430ce4",
   "metadata": {},
   "outputs": [
    {
     "name": "stdout",
     "output_type": "stream",
     "text": [
      "JEONGHAN\n"
     ]
    }
   ],
   "source": [
    "# Removing Space from a String - Using isspace()\n",
    "def remove(string):\n",
    "\tns=\"\"\n",
    "\tfor i in string:\n",
    "\t\tif(not i.isspace()):\n",
    "\t\t\tns+=i\n",
    "\treturn ns \n",
    "\n",
    "string = ' JE O NG H A N'\n",
    "print(remove(string))\n"
   ]
  },
  {
   "cell_type": "code",
   "execution_count": 28,
   "id": "2191a5a7-7065-477c-a976-d9e37da96a12",
   "metadata": {},
   "outputs": [
    {
     "name": "stdout",
     "output_type": "stream",
     "text": [
      "Seventeen\n"
     ]
    }
   ],
   "source": [
    "# Python String Methods - .capitalize() \n",
    "svt = \"seventeen\"\n",
    "print(svt.capitalize())\n"
   ]
  },
  {
   "cell_type": "code",
   "execution_count": 29,
   "id": "6f50c8c2-3245-4295-8e8c-6a5e01936a6e",
   "metadata": {},
   "outputs": [
    {
     "name": "stdout",
     "output_type": "stream",
     "text": [
      "SAY THE NAME!\n"
     ]
    }
   ],
   "source": [
    "greet = \"say the name!\"\n",
    "print(greet.upper())"
   ]
  },
  {
   "cell_type": "code",
   "execution_count": 30,
   "id": "2c4ee698-7b68-4e05-af4e-aedeb271a716",
   "metadata": {},
   "outputs": [
    {
     "name": "stdout",
     "output_type": "stream",
     "text": [
      "3\n"
     ]
    }
   ],
   "source": [
    "txt = \"We drop it like hot, hot, hot Oh, we feelin' so hot\"\n",
    "x = txt.count(\"hot\", 19)\n",
    "\n",
    "print(x)"
   ]
  },
  {
   "cell_type": "code",
   "execution_count": 31,
   "id": "cae3492f-589a-42df-b21a-86daddcf942b",
   "metadata": {},
   "outputs": [
    {
     "name": "stdout",
     "output_type": "stream",
     "text": [
      "For only 49.00 dollars!\n"
     ]
    }
   ],
   "source": [
    "txt = \"For only {price:.2f} dollars!\"\n",
    "print(txt.format(price = 49))"
   ]
  },
  {
   "cell_type": "code",
   "execution_count": null,
   "id": "cff2b7eb-79b8-4323-a8d6-51f1d763e318",
   "metadata": {},
   "outputs": [],
   "source": []
  }
 ],
 "metadata": {
  "kernelspec": {
   "display_name": "Python 3 (ipykernel)",
   "language": "python",
   "name": "python3"
  },
  "language_info": {
   "codemirror_mode": {
    "name": "ipython",
    "version": 3
   },
   "file_extension": ".py",
   "mimetype": "text/x-python",
   "name": "python",
   "nbconvert_exporter": "python",
   "pygments_lexer": "ipython3",
   "version": "3.11.7"
  }
 },
 "nbformat": 4,
 "nbformat_minor": 5
}
