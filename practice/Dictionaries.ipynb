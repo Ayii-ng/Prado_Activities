{
 "cells": [
  {
   "cell_type": "code",
   "execution_count": 2,
   "id": "8e238b62-3e2c-419e-bc64-415e372785a5",
   "metadata": {},
   "outputs": [
    {
     "name": "stdout",
     "output_type": "stream",
     "text": [
      "{'name': 'Jeonghan', 'course': 'BSCS', 'age': 20}\n",
      "{'name': 'Jisoo', 'course': 'BSCS', 'age': 20}\n"
     ]
    }
   ],
   "source": [
    "StudentOne = {\n",
    "    \"name\": \"Jeonghan\",\n",
    "    \"course\": \"BSCS\",\n",
    "    \"age\": 20\n",
    "}\n",
    "StudentTwo = {\n",
    "    \"name\": \"Jisoo\",\n",
    "    \"course\": \"BSCS\",\n",
    "    \"age\": 20\n",
    "}\n",
    "\n",
    "print(StudentOne)\n",
    "print(StudentTwo)"
   ]
  },
  {
   "cell_type": "code",
   "execution_count": 3,
   "id": "0202f7c5-8679-405c-b687-870d8a46668d",
   "metadata": {},
   "outputs": [
    {
     "name": "stdout",
     "output_type": "stream",
     "text": [
      "Jeonghan\n"
     ]
    }
   ],
   "source": [
    "print(StudentOne[\"name\"])"
   ]
  },
  {
   "cell_type": "code",
   "execution_count": 4,
   "id": "b7ff95d9-d4ed-4b19-95a2-6532b4428e72",
   "metadata": {},
   "outputs": [
    {
     "name": "stdout",
     "output_type": "stream",
     "text": [
      "Jisoo\n"
     ]
    }
   ],
   "source": [
    "print(StudentTwo.get(\"name\"))"
   ]
  },
  {
   "cell_type": "code",
   "execution_count": 6,
   "id": "2b350d26-89a9-4d1a-9de4-1ceeb903807e",
   "metadata": {},
   "outputs": [
    {
     "name": "stdout",
     "output_type": "stream",
     "text": [
      "Yoon Jeonghan\n",
      "{'name': 'Yoon Jeonghan', 'course': 'BSCS', 'age': 20}\n"
     ]
    }
   ],
   "source": [
    "StudentOne[\"name\"] = \"Yoon Jeonghan\"\n",
    "print(StudentOne[\"name\"])\n",
    "print(StudentOne)"
   ]
  },
  {
   "cell_type": "code",
   "execution_count": 8,
   "id": "3530d739-9645-485a-ad5b-89d0969764b7",
   "metadata": {},
   "outputs": [
    {
     "name": "stdout",
     "output_type": "stream",
     "text": [
      "Yoon Jeonghan\n",
      "BSCS\n",
      "20\n"
     ]
    }
   ],
   "source": [
    "for values in StudentOne.values():\n",
    "    print(values)"
   ]
  },
  {
   "cell_type": "code",
   "execution_count": 9,
   "id": "dc0fc8ca-cc5f-41c7-a5e5-6406b569d6d1",
   "metadata": {},
   "outputs": [
    {
     "name": "stdout",
     "output_type": "stream",
     "text": [
      "3\n"
     ]
    }
   ],
   "source": [
    "print(len(StudentOne))"
   ]
  },
  {
   "cell_type": "code",
   "execution_count": 10,
   "id": "2d7cdaa7-4019-4838-b530-b9ef6b427e80",
   "metadata": {},
   "outputs": [
    {
     "name": "stdout",
     "output_type": "stream",
     "text": [
      "{'name': 'Yoon Jeonghan', 'course': 'BSCS', 'age': 20, 'Birthday': 'October 04, 1995'}\n"
     ]
    }
   ],
   "source": [
    "StudentOne[\"Birthday\"] = \"October 04, 1995\"\n",
    "print(StudentOne)"
   ]
  },
  {
   "cell_type": "code",
   "execution_count": 11,
   "id": "bcd99194-a4e2-4f12-b7d4-fcbb7a154f6d",
   "metadata": {},
   "outputs": [
    {
     "name": "stdout",
     "output_type": "stream",
     "text": [
      "{'name': 'Yoon Jeonghan', 'course': 'BSCS', 'age': 20}\n"
     ]
    }
   ],
   "source": [
    "StudentOne.pop(\"Birthday\")\n",
    "print(StudentOne)"
   ]
  },
  {
   "cell_type": "code",
   "execution_count": 12,
   "id": "57b081aa-b734-4c36-aca8-13cf425c5ae2",
   "metadata": {},
   "outputs": [
    {
     "name": "stdout",
     "output_type": "stream",
     "text": [
      "{'name': 'Yoon Jeonghan', 'course': 'BSCS'}\n"
     ]
    }
   ],
   "source": [
    "StudentOne.popitem()\n",
    "print(StudentOne)"
   ]
  },
  {
   "cell_type": "code",
   "execution_count": 13,
   "id": "14651da8-7457-4dde-bf38-49c01e0a48ad",
   "metadata": {},
   "outputs": [
    {
     "name": "stdout",
     "output_type": "stream",
     "text": [
      "{}\n"
     ]
    }
   ],
   "source": [
    "StudentOne.clear()\n",
    "print(StudentOne)"
   ]
  },
  {
   "cell_type": "code",
   "execution_count": 14,
   "id": "51a2b148-ab16-44e6-bc7f-4c5cc02934d9",
   "metadata": {},
   "outputs": [],
   "source": [
    "del StudentOne"
   ]
  },
  {
   "cell_type": "code",
   "execution_count": 15,
   "id": "566fb54e-6f01-494d-a6e8-fa589857a5eb",
   "metadata": {},
   "outputs": [
    {
     "ename": "NameError",
     "evalue": "name 'StudentOne' is not defined",
     "output_type": "error",
     "traceback": [
      "\u001b[1;31m---------------------------------------------------------------------------\u001b[0m",
      "\u001b[1;31mNameError\u001b[0m                                 Traceback (most recent call last)",
      "Cell \u001b[1;32mIn[15], line 1\u001b[0m\n\u001b[1;32m----> 1\u001b[0m \u001b[38;5;28mprint\u001b[39m(StudentOne)\n",
      "\u001b[1;31mNameError\u001b[0m: name 'StudentOne' is not defined"
     ]
    }
   ],
   "source": [
    "print(StudentOne)"
   ]
  },
  {
   "cell_type": "code",
   "execution_count": 3,
   "id": "48a1bec2-7c58-44db-a9f2-a8e730b1cb9c",
   "metadata": {
    "scrolled": true
   },
   "outputs": [
    {
     "name": "stdout",
     "output_type": "stream",
     "text": [
      "{'name': 'Jisoo', 'course': 'BSCS', 'age': 20}\n"
     ]
    }
   ],
   "source": [
    "StudentTwo = {\n",
    "    \"name\": \"Jisoo\",\n",
    "    \"course\": \"BSCS\",\n",
    "    \"age\": 20\n",
    "}\n",
    "\n",
    "StudentOne = StudentTwo.copy()\n",
    "print(StudentOne)"
   ]
  },
  {
   "cell_type": "code",
   "execution_count": 4,
   "id": "e5214851-35e0-486f-b859-e86c93b73561",
   "metadata": {},
   "outputs": [
    {
     "name": "stdout",
     "output_type": "stream",
     "text": [
      "dict_keys(['name', 'course', 'age'])\n"
     ]
    }
   ],
   "source": [
    "print(StudentOne.keys())"
   ]
  },
  {
   "cell_type": "code",
   "execution_count": 5,
   "id": "2388deca-6174-455f-a84f-d453a19da6e3",
   "metadata": {},
   "outputs": [
    {
     "name": "stdout",
     "output_type": "stream",
     "text": [
      "dict_values(['Jisoo', 'BSCS', 20])\n"
     ]
    }
   ],
   "source": [
    "print(StudentOne.values())"
   ]
  },
  {
   "cell_type": "code",
   "execution_count": 6,
   "id": "2c1c961e-5142-4a75-8e52-404ee49d6cb4",
   "metadata": {},
   "outputs": [
    {
     "name": "stdout",
     "output_type": "stream",
     "text": [
      "[{'name': 'Jisoo', 'course': 'BSCS', 'age': 20}, {'name': 'Jisoo', 'course': 'BSCS', 'age': 20}]\n"
     ]
    }
   ],
   "source": [
    "students = [StudentOne, StudentTwo]\n",
    "print(students)\n"
   ]
  },
  {
   "cell_type": "code",
   "execution_count": 7,
   "id": "907ff429-3d1b-44c6-a758-e84e310f04a4",
   "metadata": {},
   "outputs": [
    {
     "name": "stdout",
     "output_type": "stream",
     "text": [
      "Jisoo\n"
     ]
    }
   ],
   "source": [
    "print(students[0].get(\"name\"))"
   ]
  },
  {
   "cell_type": "code",
   "execution_count": 8,
   "id": "56f0d6a8-bb5e-439b-b133-f98c9dda7d39",
   "metadata": {},
   "outputs": [
    {
     "name": "stdout",
     "output_type": "stream",
     "text": [
      "Jisoo\n"
     ]
    }
   ],
   "source": [
    "print(students[1].get(\"name\"))"
   ]
  },
  {
   "cell_type": "code",
   "execution_count": 9,
   "id": "f823da25-2a2c-4d94-a153-6c1b626b473b",
   "metadata": {},
   "outputs": [
    {
     "name": "stdout",
     "output_type": "stream",
     "text": [
      "{'name': 'Jisoo', 'course': 'BSCS', 'age': 20, 'physical': {'height': 180, 'weight': 50, 'skin': 'white'}}\n",
      "180\n"
     ]
    }
   ],
   "source": [
    "studentOneAttributes = {\n",
    "    \"height\": 180,\n",
    "    \"weight\": 50, \n",
    "    \"skin\": \"white\"\n",
    "}\n",
    "\n",
    "StudentOne[\"physical\"] = studentOneAttributes\n",
    "print(StudentOne)\n",
    "\n",
    "print(StudentOne.get(\"physical\").get(\"height\"))"
   ]
  },
  {
   "cell_type": "code",
   "execution_count": 11,
   "id": "ee1be688-e38c-45a1-8f29-e28b6e840ec4",
   "metadata": {},
   "outputs": [
    {
     "name": "stdout",
     "output_type": "stream",
     "text": [
      "{'one': 'Seungcheol', 'two': 'Jeonghan', 'three': 'Jisoo'}\n"
     ]
    }
   ],
   "source": [
    "students_names = dict(one = \"Seungcheol\", two = \"Jeonghan\", three = \"Jisoo\")\n",
    "print(students_names)"
   ]
  },
  {
   "cell_type": "code",
   "execution_count": 12,
   "id": "da3b8417-664e-4532-9661-eb34c46df486",
   "metadata": {},
   "outputs": [
    {
     "name": "stdout",
     "output_type": "stream",
     "text": [
      "{'one': 'Seungkwan', 'Two': 'Hansol'}\n"
     ]
    }
   ],
   "source": [
    "students_98 = [(\"one\", \"Seungkwan\"),(\"Two\", \"Hansol\")]\n",
    "myDict = dict(students_98)\n",
    "print(myDict)"
   ]
  },
  {
   "cell_type": "code",
   "execution_count": 13,
   "id": "469925e9-5b56-4b1f-845b-ed9003e61554",
   "metadata": {},
   "outputs": [],
   "source": []
  }
 ],
 "metadata": {
  "kernelspec": {
   "display_name": "Python 3 (ipykernel)",
   "language": "python",
   "name": "python3"
  },
  "language_info": {
   "codemirror_mode": {
    "name": "ipython",
    "version": 3
   },
   "file_extension": ".py",
   "mimetype": "text/x-python",
   "name": "python",
   "nbconvert_exporter": "python",
   "pygments_lexer": "ipython3",
   "version": "3.11.7"
  }
 },
 "nbformat": 4,
 "nbformat_minor": 5
}
